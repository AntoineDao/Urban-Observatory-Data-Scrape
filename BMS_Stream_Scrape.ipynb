{
 "cells": [
  {
   "cell_type": "markdown",
   "metadata": {},
   "source": [
    "## Mining Live BMS Stream\n",
    "\n",
    "In order to retrieve data from the live BMS stream we need to either tap into the websockets stream directly or grab html data from the updating page."
   ]
  },
  {
   "cell_type": "code",
   "execution_count": 17,
   "metadata": {},
   "outputs": [],
   "source": [
    "from bs4 import BeautifulSoup\n",
    "from selenium.webdriver.support.ui import WebDriverWait\n",
    "from selenium.webdriver.support import expected_conditions as EC\n",
    "from selenium.webdriver.common.by import By\n",
    "from selenium import webdriver\n",
    "\n",
    "import time\n",
    "\n",
    "browser = webdriver.Chrome()\n",
    "browser.get(\"https://api.usb.urbanobservatory.ac.uk/live/\")\n",
    "\n",
    "# Wait for the dynamically loaded elements to show up\n",
    "WebDriverWait(browser, 10).until(\n",
    "    EC.visibility_of_element_located((By.TAG_NAME, \"li\")))\n",
    "\n",
    "time.sleep(2)\n",
    "\n",
    "elements = browser.find_elements_by_tag_name(\"li\")\n",
    "\n",
    "text = [element.text for element in elements]\n",
    "\n",
    "inner_html = [element.get_attribute(\"innerHTML\") for element in elements]\n",
    "\n",
    "browser.quit()\n"
   ]
  },
  {
   "cell_type": "code",
   "execution_count": 144,
   "metadata": {},
   "outputs": [],
   "source": [
    "import json\n",
    "\n",
    "def parse_log(html):\n",
    "    log = {}\n",
    "    log[\"value\"] = html.find(\"span\", class_ = \"number\").string\n",
    "    log[\"timestamp\"] = html.find(\"span\", class_ = \"timestamp\").string\n",
    "    log[\"unit\"] = html.find_all(\"span\")[1].text.split(log[\"value\"])[1][:-1]\n",
    "    log[\"title\"] = html.find(\"a\")[\"title\"]\n",
    "    log[\"metric\"] = html.find(\"a\").string\n",
    "    log[\"location\"] = html.find_all(\"span\")[1].get_text().split(log[\"metric\"] + \" \")[1].split(\" is now\")[0]\n",
    "    if \"in \" in log[\"location\"]:\n",
    "        log[\"location\"] = log[\"location\"].split(\"in \")[1]\n",
    "    return json.dumps(log)#, indent=4, sort_keys=True)"
   ]
  },
  {
   "cell_type": "code",
   "execution_count": 86,
   "metadata": {},
   "outputs": [
    {
     "name": "stdout",
     "output_type": "stream",
     "text": [
      "<span class=\"timestamp\">\n",
      " 2018-02-11T11:57:55.991Z\n",
      "</span>\n",
      "<span class=\"description\">\n",
      " <span class=\"variable\">\n",
      "  <a title=\"Drivers.GF_Event_Space_Electricity_Meters.GF_ES_Mechanical_DB.points.GF_MechDB_L1_Current\">\n",
      "   GF MechDB L1 Current\n",
      "  </a>\n",
      " </span>\n",
      " (Drivers.GF_Event_Space_Electricity_Meters.GF_ES_Mechanical_DB.points.GF_MechDB_L1_Current) is now\n",
      " <span class=\"number\">\n",
      "  2.99\n",
      " </span>\n",
      " .\n",
      "</span>\n",
      "\n"
     ]
    }
   ],
   "source": [
    "from bs4 import BeautifulSoup\n",
    "\n",
    "html_doc = inner_html[2]\n",
    "\n",
    "soup = BeautifulSoup(html_doc, 'html.parser')\n",
    "\n",
    "print(soup.prettify())"
   ]
  },
  {
   "cell_type": "code",
   "execution_count": 147,
   "metadata": {},
   "outputs": [
    {
     "name": "stdout",
     "output_type": "stream",
     "text": [
      "{\"value\": \"2.99\", \"timestamp\": \"2018-02-11T11:57:55.991Z\", \"unit\": \"\", \"title\": \"Drivers.GF_Event_Space_Electricity_Meters.GF_ES_Mechanical_DB.points.GF_MechDB_L1_Current\", \"metric\": \"GF MechDB L1 Current\", \"location\": \"(Drivers.GF_Event_Space_Electricity_Meters.GF_ES_Mechanical_DB.points.GF_MechDB_L1_Current)\"}\n"
     ]
    }
   ],
   "source": [
    "print(parse_log(soup))"
   ]
  },
  {
   "cell_type": "code",
   "execution_count": 145,
   "metadata": {},
   "outputs": [
    {
     "name": "stdout",
     "output_type": "stream",
     "text": [
      "<li>\n",
      " <span class=\"timestamp\">\n",
      "  2018-02-11T12:26:22.172Z\n",
      " </span>\n",
      " <span class=\"description\">\n",
      "  <span class=\"variable\">\n",
      "   <a title=\"LightingControl.03_RoomControl.342_WorkspaceZ4_3_049_BrightnessValue\">\n",
      "    Room Brightness\n",
      "   </a>\n",
      "  </span>\n",
      "  in\n",
      "  <strong>\n",
      "   Room 3.049 (Workspace Z4)\n",
      "  </strong>\n",
      "  is now\n",
      "  <span class=\"number\">\n",
      "   14900\n",
      "  </span>\n",
      "  luxes.\n",
      " </span>\n",
      "</li>\n"
     ]
    }
   ],
   "source": [
    "room_html = '<li>    <span class=\"timestamp\">2018-02-11T12:26:22.172Z</span>     <span class=\"description\"><span class=\"variable\"><a title=\"LightingControl.03_RoomControl.342_WorkspaceZ4_3_049_BrightnessValue\">Room Brightness</a></span> in <strong>Room 3.049 (Workspace Z4)</strong> is now <span class=\"number\">14900</span> luxes.</span>  </li>'\n",
    "\n",
    "\n",
    "room_soup = BeautifulSoup(room_html, 'html.parser')\n",
    "\n",
    "print(room_soup.prettify())"
   ]
  },
  {
   "cell_type": "code",
   "execution_count": 146,
   "metadata": {},
   "outputs": [
    {
     "name": "stdout",
     "output_type": "stream",
     "text": [
      "{\"value\": \"14900\", \"timestamp\": \"2018-02-11T12:26:22.172Z\", \"unit\": \" luxes\", \"title\": \"LightingControl.03_RoomControl.342_WorkspaceZ4_3_049_BrightnessValue\", \"metric\": \"Room Brightness\", \"location\": \"Room 3.049 (Workspace Z4)\"}\n"
     ]
    }
   ],
   "source": [
    "print(parse_log(room_soup))"
   ]
  },
  {
   "cell_type": "code",
   "execution_count": null,
   "metadata": {},
   "outputs": [],
   "source": []
  }
 ],
 "metadata": {
  "kernelspec": {
   "display_name": "Python 3",
   "language": "python",
   "name": "python3"
  },
  "language_info": {
   "codemirror_mode": {
    "name": "ipython",
    "version": 3
   },
   "file_extension": ".py",
   "mimetype": "text/x-python",
   "name": "python",
   "nbconvert_exporter": "python",
   "pygments_lexer": "ipython3",
   "version": "3.6.3"
  }
 },
 "nbformat": 4,
 "nbformat_minor": 2
}
