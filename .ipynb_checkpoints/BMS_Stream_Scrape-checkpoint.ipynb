{
 "cells": [
  {
   "cell_type": "markdown",
   "metadata": {},
   "source": [
    "## Mining Live BMS Stream\n",
    "\n",
    "In order to retrieve data from the live BMS stream we need to either tap into the websockets stream directly or grab html data from the updating page."
   ]
  },
  {
   "cell_type": "code",
   "execution_count": 226,
   "metadata": {},
   "outputs": [],
   "source": [
    "from bs4 import BeautifulSoup\n",
    "from selenium.webdriver.support.ui import WebDriverWait\n",
    "from selenium.webdriver.support import expected_conditions as EC\n",
    "from selenium.webdriver.common.by import By\n",
    "from selenium import webdriver\n",
    "\n",
    "import time\n",
    "\n",
    "browser = webdriver.Chrome()\n",
    "browser.get(\"https://api.usb.urbanobservatory.ac.uk/live/\")\n",
    "\n",
    "# Wait for the dynamically loaded elements to show up\n",
    "WebDriverWait(browser, 10).until(\n",
    "    EC.visibility_of_element_located((By.TAG_NAME, \"li\")))\n",
    "\n",
    "time.sleep(2)\n",
    "\n",
    "elements = browser.find_elements_by_tag_name(\"li\")\n",
    "\n",
    "text = [element.text for element in elements]\n",
    "\n",
    "inner_html = [element.get_attribute(\"innerHTML\") for element in elements]\n",
    "\n",
    "browser.quit()\n"
   ]
  },
  {
   "cell_type": "code",
   "execution_count": 235,
   "metadata": {},
   "outputs": [],
   "source": [
    "import json\n",
    "\n",
    "def parse_log(html):\n",
    "    log = {}\n",
    "    log[\"value\"] = html.find(\"span\", class_ = \"number\").string\n",
    "    log[\"timestamp\"] = html.find(\"span\", class_ = \"timestamp\").string\n",
    "    log[\"unit\"] = html.find_all(\"span\")[1].text.split(log[\"value\"])[1][:-1]\n",
    "    log[\"title\"] = html.find(\"a\")[\"title\"]\n",
    "    log[\"metric\"] = html.find(\"a\").string\n",
    "    log[\"location\"] = html.find_all(\"span\")[1].get_text().split(log[\"metric\"] + \" \")[1].split(\" is now\")[0]\n",
    "    \n",
    "    index_name = \"general\"\n",
    "    \n",
    "    if \"in \" in log[\"location\"]:\n",
    "        log[\"location\"] = log[\"location\"].split(\"in \")[1]\n",
    "        index_name = \"room\"\n",
    "        \n",
    "    _id = log[\"title\"] + \"_\" + log[\"timestamp\"]\n",
    "    log[\"value\"] = float(log[\"value\"])\n",
    "    return (index_name, _id, json.dumps(log))#, indent=4, sort_keys=True)"
   ]
  },
  {
   "cell_type": "code",
   "execution_count": 236,
   "metadata": {},
   "outputs": [
    {
     "name": "stdout",
     "output_type": "stream",
     "text": [
      "<span class=\"timestamp\">\n",
      " 2018-02-11T20:37:54.538Z\n",
      "</span>\n",
      "<span class=\"description\">\n",
      " <span class=\"variable\">\n",
      "  <a title=\"Plt02'Meters'SwIncome'L32Namps\">\n",
      "   L3 to N\n",
      "  </a>\n",
      " </span>\n",
      " (Amps) (Plt02'Meters'SwIncome'L32Namps) is now\n",
      " <span class=\"number\">\n",
      "  46.1\n",
      " </span>\n",
      " amperes.\n",
      "</span>\n",
      "\n"
     ]
    }
   ],
   "source": [
    "from bs4 import BeautifulSoup\n",
    "\n",
    "html_doc = inner_html[2]\n",
    "\n",
    "soup = BeautifulSoup(html_doc, 'html.parser')\n",
    "\n",
    "print(soup.prettify())"
   ]
  },
  {
   "cell_type": "code",
   "execution_count": 237,
   "metadata": {},
   "outputs": [
    {
     "name": "stdout",
     "output_type": "stream",
     "text": [
      "('general', \"Plt02'Meters'SwIncome'L32Namps_2018-02-11T20:37:54.538Z\", '{\"value\": 46.1, \"timestamp\": \"2018-02-11T20:37:54.538Z\", \"unit\": \" amperes\", \"title\": \"Plt02\\'Meters\\'SwIncome\\'L32Namps\", \"metric\": \"L3 to N\", \"location\": \"(Amps) (Plt02\\'Meters\\'SwIncome\\'L32Namps)\"}')\n"
     ]
    }
   ],
   "source": [
    "print(parse_log(soup))"
   ]
  },
  {
   "cell_type": "code",
   "execution_count": 238,
   "metadata": {},
   "outputs": [
    {
     "name": "stdout",
     "output_type": "stream",
     "text": [
      "<li>\n",
      " <span class=\"timestamp\">\n",
      "  2018-02-11T12:26:22.172Z\n",
      " </span>\n",
      " <span class=\"description\">\n",
      "  <span class=\"variable\">\n",
      "   <a title=\"LightingControl.03_RoomControl.342_WorkspaceZ4_3_049_BrightnessValue\">\n",
      "    Room Brightness\n",
      "   </a>\n",
      "  </span>\n",
      "  in\n",
      "  <strong>\n",
      "   Room 3.049 (Workspace Z4)\n",
      "  </strong>\n",
      "  is now\n",
      "  <span class=\"number\">\n",
      "   14900\n",
      "  </span>\n",
      "  luxes.\n",
      " </span>\n",
      "</li>\n"
     ]
    }
   ],
   "source": [
    "room_html = '<li>    <span class=\"timestamp\">2018-02-11T12:26:22.172Z</span>     <span class=\"description\"><span class=\"variable\"><a title=\"LightingControl.03_RoomControl.342_WorkspaceZ4_3_049_BrightnessValue\">Room Brightness</a></span> in <strong>Room 3.049 (Workspace Z4)</strong> is now <span class=\"number\">14900</span> luxes.</span>  </li>'\n",
    "\n",
    "\n",
    "room_soup = BeautifulSoup(room_html, 'html.parser')\n",
    "\n",
    "print(room_soup.prettify())"
   ]
  },
  {
   "cell_type": "code",
   "execution_count": 239,
   "metadata": {},
   "outputs": [
    {
     "name": "stdout",
     "output_type": "stream",
     "text": [
      "('room', 'LightingControl.03_RoomControl.342_WorkspaceZ4_3_049_BrightnessValue_2018-02-11T12:26:22.172Z', '{\"value\": 14900.0, \"timestamp\": \"2018-02-11T12:26:22.172Z\", \"unit\": \" luxes\", \"title\": \"LightingControl.03_RoomControl.342_WorkspaceZ4_3_049_BrightnessValue\", \"metric\": \"Room Brightness\", \"location\": \"Room 3.049 (Workspace Z4)\"}')\n"
     ]
    }
   ],
   "source": [
    "print(parse_log(room_soup))"
   ]
  },
  {
   "cell_type": "markdown",
   "metadata": {},
   "source": [
    "## Talking to ElasticSearch\n",
    "\n",
    "Now that we have formatted data from the page we can try sending it to elasticsearch and visualizing it using Kibana."
   ]
  },
  {
   "cell_type": "code",
   "execution_count": 240,
   "metadata": {},
   "outputs": [
    {
     "data": {
      "text/plain": [
       "{'cluster_name': 'docker-cluster',\n",
       " 'cluster_uuid': 'xC2OucNfQJqcWfmrSUnzEQ',\n",
       " 'name': 'KHIiGGd',\n",
       " 'tagline': 'You Know, for Search',\n",
       " 'version': {'build_date': '2018-01-26T18:22:55.523Z',\n",
       "  'build_hash': 'af51318',\n",
       "  'build_snapshot': False,\n",
       "  'lucene_version': '7.1.0',\n",
       "  'minimum_index_compatibility_version': '5.0.0',\n",
       "  'minimum_wire_compatibility_version': '5.6.0',\n",
       "  'number': '6.1.3'}}"
      ]
     },
     "execution_count": 240,
     "metadata": {},
     "output_type": "execute_result"
    }
   ],
   "source": [
    "# make sure ES is up and running\n",
    "import requests\n",
    "\n",
    "# This is the hostname for docker machine running from docker toolbox on windows 10\n",
    "# It's very likely to be different for your set up so be sure to check where your elk docker service runs!\n",
    "host = \"192.168.99.100\"\n",
    "\n",
    "res = requests.get('http://' + host + ':9200')\n",
    "res.json()"
   ]
  },
  {
   "cell_type": "code",
   "execution_count": 241,
   "metadata": {},
   "outputs": [],
   "source": [
    "#connect to our cluster\n",
    "from elasticsearch import Elasticsearch\n",
    "es = Elasticsearch([{'host': host, 'port': 9200}])"
   ]
  },
  {
   "cell_type": "code",
   "execution_count": 242,
   "metadata": {},
   "outputs": [
    {
     "data": {
      "text/plain": [
       "{'_id': '1',\n",
       " '_index': 'test-index',\n",
       " '_primary_term': 1,\n",
       " '_seq_no': 3,\n",
       " '_shards': {'failed': 0, 'successful': 1, 'total': 2},\n",
       " '_type': 'test',\n",
       " '_version': 4,\n",
       " 'result': 'updated'}"
      ]
     },
     "execution_count": 242,
     "metadata": {},
     "output_type": "execute_result"
    }
   ],
   "source": [
    "#index some test data\n",
    "es.index(index='test-index', doc_type='test', id=1, body={'test': 'test'})"
   ]
  },
  {
   "cell_type": "code",
   "execution_count": 265,
   "metadata": {},
   "outputs": [
    {
     "name": "stderr",
     "output_type": "stream",
     "text": [
      "DELETE http://192.168.99.100:9200/general,room [status:404 request:0.003s]\n"
     ]
    },
    {
     "data": {
      "text/plain": [
       "{'acknowledged': True, 'index': 'room', 'shards_acknowledged': True}"
      ]
     },
     "execution_count": 265,
     "metadata": {},
     "output_type": "execute_result"
    }
   ],
   "source": [
    "from elasticsearch import client\n",
    "\n",
    "mapping_json = { \"mappings\" : {\n",
    "    \"bms_log\": {\n",
    "          \"properties\": {\n",
    "            \"value\": { \"type\": \"double\" },\n",
    "            \"timestamp\": { \"type\": \"date\" },\n",
    "            \"unit\": { \"type\": \"keyword\" },\n",
    "            \"title\": { \"type\": \"text\",\n",
    "                       \"fields\": {\n",
    "                           \"keyword\": {\n",
    "                               \"type\": \"keyword\",\n",
    "                               \"ignore_above\": 10\n",
    "                           }   \n",
    "                       }\n",
    "                     },\n",
    "            \"metric\": { \"type\": \"text\" },\n",
    "            \"location\": { \"type\": \"text\" }\n",
    "            }\n",
    "        }\n",
    "    }\n",
    "}\n",
    "\n",
    "mapping_json = json.dumps(mapping_json)\n",
    "\n",
    "# Connect to client\n",
    "es_client = client.IndicesClient(es)\n",
    "\n",
    "# Clean up miss-mapped indexes first\n",
    "try:\n",
    "    es_client.delete(index = [\"general\",\"room\"])\n",
    "except:\n",
    "    pass\n",
    "\n",
    "# Map indexes properly\n",
    "es_client.create(index = \"general\", body = mapping_json)\n",
    "es_client.create(index = \"room\", body = mapping_json)"
   ]
  },
  {
   "cell_type": "code",
   "execution_count": 250,
   "metadata": {},
   "outputs": [
    {
     "data": {
      "text/plain": [
       "'{\"mappings\": {\"bms_log\": {\"properties\": {\"value\": {\"type\": \"double\"}, \"timestamp\": {\"type\": \"date\"}, \"unit\": {\"type\": \"keyword\"}, \"title\": {\"type\": \"text\"}, \"metric\": {\"type\": \"text\"}, \"location\": {\"type\": \"text\"}}}}}'"
      ]
     },
     "execution_count": 250,
     "metadata": {},
     "output_type": "execute_result"
    }
   ],
   "source": [
    "mapping_json"
   ]
  },
  {
   "cell_type": "code",
   "execution_count": 251,
   "metadata": {},
   "outputs": [
    {
     "data": {
      "text/plain": [
       "{'_id': 'LightingControl.03_RoomControl.342_WorkspaceZ4_3_049_BrightnessValue_2018-02-11T12:26:22.172Z',\n",
       " '_index': 'room',\n",
       " '_primary_term': 1,\n",
       " '_seq_no': 0,\n",
       " '_shards': {'failed': 0, 'successful': 1, 'total': 2},\n",
       " '_type': 'bms_log',\n",
       " '_version': 1,\n",
       " 'result': 'created'}"
      ]
     },
     "execution_count": 251,
     "metadata": {},
     "output_type": "execute_result"
    }
   ],
   "source": [
    "# index the clean data we just scraped\n",
    "input = parse_log(room_soup)\n",
    "\n",
    "es.index(index = input[0], doc_type = \"bms_log\", id = input[1], body = input[2])"
   ]
  },
  {
   "cell_type": "code",
   "execution_count": 252,
   "metadata": {},
   "outputs": [
    {
     "data": {
      "text/plain": [
       "{'_id': \"Plt02'Meters'SwIncome'L32Namps_2018-02-11T20:37:54.538Z\",\n",
       " '_index': 'general',\n",
       " '_primary_term': 1,\n",
       " '_seq_no': 0,\n",
       " '_shards': {'failed': 0, 'successful': 1, 'total': 2},\n",
       " '_type': 'bms_log',\n",
       " '_version': 1,\n",
       " 'result': 'created'}"
      ]
     },
     "execution_count": 252,
     "metadata": {},
     "output_type": "execute_result"
    }
   ],
   "source": [
    "# index the clean data we just scraped\n",
    "input = parse_log(soup)\n",
    "\n",
    "es.index(index = input[0], doc_type = \"bms_log\", id = input[1], body = input[2])"
   ]
  },
  {
   "cell_type": "markdown",
   "metadata": {},
   "source": [
    "### Scaling Up!!\n",
    "\n",
    "Now that we have managed to parse our data and input some basic indexes into elastic lets do so for a larger number of logs."
   ]
  },
  {
   "cell_type": "code",
   "execution_count": 253,
   "metadata": {},
   "outputs": [
    {
     "name": "stdout",
     "output_type": "stream",
     "text": [
      "9341\n"
     ]
    }
   ],
   "source": [
    "from bs4 import BeautifulSoup\n",
    "from selenium.webdriver.support.ui import WebDriverWait\n",
    "from selenium.webdriver.support import expected_conditions as EC\n",
    "from selenium.webdriver.common.by import By\n",
    "from selenium import webdriver\n",
    "\n",
    "import time\n",
    "\n",
    "browser = webdriver.Chrome()\n",
    "browser.get(\"https://api.usb.urbanobservatory.ac.uk/live/\")\n",
    "\n",
    "# Wait for the dynamically loaded elements to show up\n",
    "WebDriverWait(browser, 10).until(\n",
    "    EC.visibility_of_element_located((By.TAG_NAME, \"li\")))\n",
    "\n",
    "time.sleep(2)\n",
    "\n",
    "i = 0\n",
    "\n",
    "successful = 0\n",
    "\n",
    "while i < 100000:\n",
    "    element = browser.find_element_by_tag_name(\"li\")\n",
    "\n",
    "    inner_html = BeautifulSoup(element.get_attribute(\"innerHTML\"), 'html.parser')\n",
    "\n",
    "    try:\n",
    "        input = parse_log(inner_html)\n",
    "        es.index(index = input[0], doc_type = \"bms_log\", id = input[1], body = input[2])\n",
    "        successful += 1\n",
    "    except:\n",
    "        pass\n",
    "   \n",
    "    time.sleep(0.1)\n",
    "    i+=1\n",
    "    \n",
    "\n",
    "browser.quit()\n",
    "\n",
    "print(successful)"
   ]
  }
 ],
 "metadata": {
  "kernelspec": {
   "display_name": "Python 3",
   "language": "python",
   "name": "python3"
  },
  "language_info": {
   "codemirror_mode": {
    "name": "ipython",
    "version": 3
   },
   "file_extension": ".py",
   "mimetype": "text/x-python",
   "name": "python",
   "nbconvert_exporter": "python",
   "pygments_lexer": "ipython3",
   "version": "3.6.3"
  }
 },
 "nbformat": 4,
 "nbformat_minor": 2
}
